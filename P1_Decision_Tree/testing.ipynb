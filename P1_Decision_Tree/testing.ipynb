{
 "cells": [
  {
   "cell_type": "code",
   "execution_count": 33,
   "metadata": {},
   "outputs": [],
   "source": [
    "import numpy as np\n",
    "import os\n",
    "import mldata\n",
    "from DT_Model import ID3"
   ]
  },
  {
   "cell_type": "code",
   "execution_count": 34,
   "metadata": {},
   "outputs": [],
   "source": [
    "file_path = '/home/decaf/Dropbox/EECS 440/dataset/example'"
   ]
  },
  {
   "cell_type": "code",
   "execution_count": 44,
   "metadata": {},
   "outputs": [],
   "source": [
    "examples = np.array(mldata.parse_c45('volcanoes', file_path))\n",
    "samples = examples[:, 1:-1].astype(float)\n",
    "targets = np.array(list(map(lambda x: x == 'True', examples[:, -1])))\n",
    "dt = ID3(10, False)"
   ]
  },
  {
   "cell_type": "code",
   "execution_count": 45,
   "metadata": {},
   "outputs": [
    {
     "data": {
      "text/plain": [
       "array([['1', '1', '104.0', ..., '124.0', '96.0', 'True'],\n",
       "       ['2', '1', '111.0', ..., '104.0', '99.0', 'True'],\n",
       "       ['3', '1', '125.0', ..., '112.0', '119.0', 'True'],\n",
       "       ...,\n",
       "       ['2229', '16', '127.0', ..., '70.0', '82.0', 'False'],\n",
       "       ['2230', '38', '128.0', ..., '123.0', '135.0', 'False'],\n",
       "       ['2231', '12', '87.0', ..., '83.0', '75.0', 'False']], dtype='<U5')"
      ]
     },
     "execution_count": 45,
     "metadata": {},
     "output_type": "execute_result"
    }
   ],
   "source": [
    "examples"
   ]
  },
  {
   "cell_type": "code",
   "execution_count": 46,
   "metadata": {},
   "outputs": [
    {
     "name": "stdout",
     "output_type": "stream",
     "text": [
      "[ True  True  True ... False False False]\n",
      "[124. 104. 112. ...  70. 123.  83.]\n"
     ]
    }
   ],
   "source": [
    "labels = targets\n",
    "attr = samples[:,-2]\n",
    "print(labels)\n",
    "print(attr)"
   ]
  },
  {
   "cell_type": "markdown",
   "metadata": {},
   "source": [
    "# Debug Cont IG"
   ]
  },
  {
   "cell_type": "code",
   "execution_count": 49,
   "metadata": {},
   "outputs": [],
   "source": [
    "og_ent = dt.entropy_of(labels)\n",
    "cont_xy_pair = np.array([attr, labels]).T"
   ]
  },
  {
   "cell_type": "code",
   "execution_count": 50,
   "metadata": {},
   "outputs": [
    {
     "name": "stdout",
     "output_type": "stream",
     "text": [
      "[   4    5    7    8   11   14   20   23   24   30   37   41   46   52\n",
      "   57   65   80   82   95  101  116  127  137  150  163  168  181  203\n",
      "  217  238  257  275  298  314  330  353  374  403  423  443  469  497\n",
      "  521  549  565  593  617  640  665  690  717  749  772  792  823  841\n",
      "  875  893  921  940  959  982 1013 1037 1059 1077 1107 1122 1152 1169\n",
      " 1202 1218 1250 1265 1293 1305 1328 1344 1361 1375 1403 1417 1446 1454\n",
      " 1477 1483 1497 1502 1533 1539 1564 1569 1593 1597 1626 1630 1655 1661\n",
      " 1687 1690 1714 1715 1738 1741 1754 1756 1780 1785 1809 1811 1833 1839\n",
      " 1858 1860 1873 1877 1896 1898 1918 1919 1960 1961 1987 1990 2006 2009\n",
      " 2029 2031 2057 2058 2069 2070 2104 2105 2152 2153 2180 2181 2185 2186]\n"
     ]
    }
   ],
   "source": [
    "sorted_xy_pair = cont_xy_pair[cont_xy_pair[:, 0].argsort(kind='mergesort')]\n",
    "# list of the indexes of samples where class label changed\n",
    "changed_idx = np.where(sorted_xy_pair[:, 1] != np.roll(sorted_xy_pair[:, 1], 1))[0]\n",
    "print(changed_idx)"
   ]
  },
  {
   "cell_type": "code",
   "execution_count": 51,
   "metadata": {},
   "outputs": [],
   "source": [
    "partition = (sorted_xy_pair[:,0][1013] + sorted_xy_pair[:,0][1013-1])/2\n",
    "\n",
    "left_branch = sorted_xy_pair[sorted_xy_pair[:,0]<= partition]\n",
    "right_branch = sorted_xy_pair[sorted_xy_pair[:,0] > partition]"
   ]
  },
  {
   "cell_type": "code",
   "execution_count": 52,
   "metadata": {},
   "outputs": [
    {
     "name": "stdout",
     "output_type": "stream",
     "text": [
      "0.45405647691618106 0.5459435230838189\n"
     ]
    }
   ],
   "source": [
    "p_left = (left_branch.shape[0])/float(sorted_xy_pair.shape[0])\n",
    "p_right = (right_branch.shape[0])/float(sorted_xy_pair.shape[0])\n",
    "print(p_left, p_right)"
   ]
  },
  {
   "cell_type": "code",
   "execution_count": 53,
   "metadata": {},
   "outputs": [
    {
     "name": "stdout",
     "output_type": "stream",
     "text": [
      "0.05867824267574817\n"
     ]
    }
   ],
   "source": [
    "curr_ent = p_left * dt.entropy_of(left_branch[:,1]) + p_right * dt.entropy_of(right_branch[:,1])\n",
    "print(og_ent - curr_ent)"
   ]
  },
  {
   "cell_type": "code",
   "execution_count": 55,
   "metadata": {},
   "outputs": [
    {
     "data": {
      "text/plain": [
       "(0.09112507464360031, 108.0)"
      ]
     },
     "execution_count": 55,
     "metadata": {},
     "output_type": "execute_result"
    }
   ],
   "source": [
    "best_ig = -100.0\n",
    "# traverse through all the indexes of the continious attributes where there's a change in the Class Label (The first element should not be considered)\n",
    "for i in changed_idx[1:]:\n",
    "    curr_partition = (sorted_xy_pair[:,0][i] + sorted_xy_pair[:,0][i-1])/2\n",
    "    # partition list into 2 branches\n",
    "    left_branch = sorted_xy_pair[sorted_xy_pair[:,0]<= curr_partition]\n",
    "    right_branch = sorted_xy_pair[sorted_xy_pair[:,0] > curr_partition]\n",
    "    p_left = (left_branch.shape[0])/float(sorted_xy_pair.shape[0])\n",
    "    p_right = (right_branch.shape[0])/float(sorted_xy_pair.shape[0])\n",
    "\n",
    "    curr_ent = p_left * dt.entropy_of(left_branch[:,1]) + p_right * dt.entropy_of(right_branch[:,1])\n",
    "    curr_ig = og_ent - curr_ent\n",
    "\n",
    "    # Finding the maximum information gain\n",
    "    if best_ig < curr_ig:\n",
    "        best_ig = curr_ig\n",
    "        best_partition = curr_partition\n",
    "best_ig, best_partition"
   ]
  },
  {
   "cell_type": "code",
   "execution_count": null,
   "metadata": {},
   "outputs": [],
   "source": []
  }
 ],
 "metadata": {
  "kernelspec": {
   "display_name": "Python 3",
   "language": "python",
   "name": "python3"
  },
  "language_info": {
   "codemirror_mode": {
    "name": "ipython",
    "version": 3
   },
   "file_extension": ".py",
   "mimetype": "text/x-python",
   "name": "python",
   "nbconvert_exporter": "python",
   "pygments_lexer": "ipython3",
   "version": "3.6.6"
  }
 },
 "nbformat": 4,
 "nbformat_minor": 2
}
